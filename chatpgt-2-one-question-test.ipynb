{
 "cells": [
  {
   "cell_type": "code",
   "execution_count": 1,
   "id": "2a8b389d",
   "metadata": {
    "scrolled": false
   },
   "outputs": [],
   "source": [
    "#請先記得裝 pip install torch transformers\n",
    "import torch\n",
    "from transformers import GPT2Tokenizer, GPT2LMHeadModel\n",
    "\n",
    "import csv"
   ]
  },
  {
   "cell_type": "code",
   "execution_count": 2,
   "id": "fe45f8ff",
   "metadata": {},
   "outputs": [],
   "source": [
    "# 加載預訓練的GPT-2模型和分詞器\n",
    "model_name = \"gpt2\"\n",
    "tokenizer = GPT2Tokenizer.from_pretrained(model_name)\n",
    "model = GPT2LMHeadModel.from_pretrained(model_name)"
   ]
  },
  {
   "cell_type": "code",
   "execution_count": 11,
   "id": "2ae937dd",
   "metadata": {},
   "outputs": [],
   "source": [
    "# 定義一個函數來進行問題回答\n",
    "#def generate_response(prompt, max_length=200):\n",
    "    #input_ids = tokenizer.encode(prompt, return_tensors=\"pt\")\n",
    "    #output = model.generate(input_ids, max_length=max_length, num_return_sequences=1)\n",
    "    #response = tokenizer.decode(output[0], skip_special_tokens=True)\n",
    "    #return response\n",
    "\n",
    "# 设置填充标记\n",
    "model.config.pad_token_id = model.config.eos_token_id\n",
    "\n",
    "def generate_response(prompt, max_length=340):\n",
    "    input_ids = tokenizer.encode(prompt, return_tensors=\"pt\")\n",
    "    attention_mask = torch.ones(input_ids.shape, dtype=torch.long)  # 设置注意力掩码\n",
    "    output = model.generate(input_ids, attention_mask=attention_mask, max_length=max_length, num_return_sequences=1)\n",
    "    response = tokenizer.decode(output[0], skip_special_tokens=True)\n",
    "    return response"
   ]
  },
  {
   "cell_type": "code",
   "execution_count": 12,
   "id": "4284a29b",
   "metadata": {},
   "outputs": [
    {
     "name": "stdout",
     "output_type": "stream",
     "text": [
      "回答: 如果以下新聞標題是好消息則回答好，而如果是壞消息則回答否，如果不確定則回答未知，而以下為要分析的新聞標題:年底確定來不及！台積電中科2奈米廠用地延至明年交地延至明的科2奈米廠用地延至明的科2奈米廠用地延至明的科2奈米廠用地延至明的科2奈米廠用地延至明的科2奈米廠用地延至明的科2奈米廠用地延至明的科2\n"
     ]
    }
   ],
   "source": [
    "#測試一個問題\n",
    "question=\"如果以下新聞標題是好消息則回答好，而如果是壞消息則回答否，如果不確定則回答未知，而以下為要分析的新聞標題:年底確定來不及！台積電中科2奈米廠用地延至明年交地\"\n",
    "response = generate_response(question)\n",
    "print(\"回答:\", response)"
   ]
  },
  {
   "cell_type": "code",
   "execution_count": null,
   "id": "745e08e1",
   "metadata": {},
   "outputs": [],
   "source": []
  }
 ],
 "metadata": {
  "kernelspec": {
   "display_name": "Python 3 (ipykernel)",
   "language": "python",
   "name": "python3"
  },
  "language_info": {
   "codemirror_mode": {
    "name": "ipython",
    "version": 3
   },
   "file_extension": ".py",
   "mimetype": "text/x-python",
   "name": "python",
   "nbconvert_exporter": "python",
   "pygments_lexer": "ipython3",
   "version": "3.11.4"
  }
 },
 "nbformat": 4,
 "nbformat_minor": 5
}
