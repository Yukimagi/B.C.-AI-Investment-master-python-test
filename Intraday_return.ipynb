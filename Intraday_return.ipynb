{
 "cells": [
  {
   "cell_type": "code",
   "execution_count": 1,
   "id": "79da2c2a",
   "metadata": {},
   "outputs": [],
   "source": [
    "# 第三方套件 yfinance, 可用來串接 Yahoo Finance API 下載股票的價量資訊. 而且拿到的資料就是 Pandas 的 DataFrame\n",
    "import yfinance as yf\n",
    "import pandas as pd\n",
    "import csv"
   ]
  },
  {
   "cell_type": "code",
   "execution_count": 2,
   "id": "ce149347",
   "metadata": {},
   "outputs": [
    {
     "name": "stdout",
     "output_type": "stream",
     "text": [
      "[*********************100%%**********************]  1 of 1 completed\n",
      "                 Open       High        Low      Close  Adj Close    Volume\n",
      "Date                                                                       \n",
      "2022-01-03  55.900002  56.799999  55.799999  56.299999  49.140965   2037409\n",
      "2022-01-04  56.299999  56.400002  55.500000  55.900002  48.791828   1425580\n",
      "2022-01-05  55.799999  56.200001  55.599998  56.099998  48.966393    857240\n",
      "2022-01-06  55.900002  56.500000  55.500000  55.500000  48.442692    925045\n",
      "2022-01-07  55.599998  55.900002  54.500000  54.900002  47.918983   1511150\n",
      "...               ...        ...        ...        ...        ...       ...\n",
      "2023-06-21  71.800003  73.400002  71.699997  72.800003  72.800003   3263306\n",
      "2023-06-26  72.800003  73.099998  70.699997  71.000000  71.000000   3124230\n",
      "2023-06-27  70.900002  72.400002  70.699997  71.099998  71.099998   3574697\n",
      "2023-06-28  71.699997  74.500000  71.599998  72.500000  72.500000   6708295\n",
      "2023-06-29  71.000000  71.500000  65.300003  66.300003  66.300003  17647467\n",
      "\n",
      "[358 rows x 6 columns]\n"
     ]
    }
   ],
   "source": [
    "# Download intraday data for 2330.TW\n",
    "data = yf.download(\"3005.TW\", start=\"2022-01-01\", end=\"2023-06-30\", interval=\"1d\")\n",
    "print(data)"
   ]
  },
  {
   "cell_type": "code",
   "execution_count": 48,
   "id": "6e072e4a",
   "metadata": {},
   "outputs": [],
   "source": [
    "# Calculate intraday returns\n",
    "data[\"Intraday_Return\"] = (data[\"Close\"] - data[\"Open\"]) / data[\"Open\"] * 100"
   ]
  },
  {
   "cell_type": "code",
   "execution_count": 49,
   "id": "076c0647",
   "metadata": {},
   "outputs": [],
   "source": [
    "# Save the intraday return data to a CSV file\n",
    "data.to_csv('Intraday return/3005_Intraday_Return.csv', encoding='utf-8')"
   ]
  },
  {
   "cell_type": "code",
   "execution_count": 50,
   "id": "0cbdb7dc",
   "metadata": {},
   "outputs": [
    {
     "name": "stdout",
     "output_type": "stream",
     "text": [
      "0.026419955772171377\n"
     ]
    }
   ],
   "source": [
    "all = data[\"Intraday_Return\"].sum()\n",
    "print(all)"
   ]
  },
  {
   "cell_type": "code",
   "execution_count": 25,
   "id": "f902dc29",
   "metadata": {},
   "outputs": [
    {
     "name": "stdout",
     "output_type": "stream",
     "text": [
      "[*********************100%%**********************]  1 of 1 completed\n"
     ]
    }
   ],
   "source": [
    "# Download intraday data for 2412.TW\n",
    "data2 = yf.download(\"2412.TW\", start=\"2022-01-01\", end=\"2023-06-30\", interval=\"1d\")"
   ]
  },
  {
   "cell_type": "code",
   "execution_count": 26,
   "id": "c73e3131",
   "metadata": {},
   "outputs": [],
   "source": [
    "# Calculate intraday returns\n",
    "data2[\"Intraday_Return\"] = (data2[\"Close\"] - data2[\"Open\"]) / data2[\"Open\"] * 100"
   ]
  },
  {
   "cell_type": "code",
   "execution_count": 27,
   "id": "593586da",
   "metadata": {},
   "outputs": [],
   "source": [
    "# Save the intraday return data to a CSV file\n",
    "data2.to_csv('Intraday return/2412_Intraday_Return.csv', encoding='utf-8')"
   ]
  },
  {
   "cell_type": "code",
   "execution_count": 28,
   "id": "b74e5250",
   "metadata": {},
   "outputs": [
    {
     "name": "stdout",
     "output_type": "stream",
     "text": [
      "23.217104583490105\n"
     ]
    }
   ],
   "source": [
    "all = data2[\"Intraday_Return\"].sum()\n",
    "print(all)"
   ]
  },
  {
   "cell_type": "code",
   "execution_count": 34,
   "id": "80952bc8",
   "metadata": {
    "scrolled": true
   },
   "outputs": [
    {
     "name": "stdout",
     "output_type": "stream",
     "text": [
      "[*********************100%%**********************]  1 of 1 completed\n"
     ]
    }
   ],
   "source": [
    "# Download intraday data for 1795.TW\n",
    "data3 = yf.download(\"1795.TW\", start=\"2022-01-01\", end=\"2023-06-30\", interval=\"1d\")"
   ]
  },
  {
   "cell_type": "code",
   "execution_count": 35,
   "id": "8ebc181b",
   "metadata": {},
   "outputs": [],
   "source": [
    "# Calculate intraday returns\n",
    "data3[\"Intraday_Return\"] = (data3[\"Close\"] - data3[\"Open\"]) / data3[\"Open\"] * 100"
   ]
  },
  {
   "cell_type": "code",
   "execution_count": 36,
   "id": "6d2c53f9",
   "metadata": {},
   "outputs": [],
   "source": [
    "# Save the intraday return data to a CSV file\n",
    "data3.to_csv('Intraday return/1795_Intraday_Return.csv', encoding='utf-8')"
   ]
  },
  {
   "cell_type": "code",
   "execution_count": 37,
   "id": "b8d34b5c",
   "metadata": {},
   "outputs": [
    {
     "name": "stdout",
     "output_type": "stream",
     "text": [
      "20.030192101983822\n"
     ]
    }
   ],
   "source": [
    "all = data3[\"Intraday_Return\"].sum()\n",
    "print(all)"
   ]
  },
  {
   "cell_type": "code",
   "execution_count": null,
   "id": "22d5df82",
   "metadata": {},
   "outputs": [],
   "source": []
  }
 ],
 "metadata": {
  "kernelspec": {
   "display_name": "Python 3 (ipykernel)",
   "language": "python",
   "name": "python3"
  },
  "language_info": {
   "codemirror_mode": {
    "name": "ipython",
    "version": 3
   },
   "file_extension": ".py",
   "mimetype": "text/x-python",
   "name": "python",
   "nbconvert_exporter": "python",
   "pygments_lexer": "ipython3",
   "version": "3.11.4"
  }
 },
 "nbformat": 4,
 "nbformat_minor": 5
}
