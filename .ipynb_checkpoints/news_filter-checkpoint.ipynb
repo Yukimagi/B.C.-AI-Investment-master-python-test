{
 "cells": [
  {
   "cell_type": "code",
   "execution_count": 8,
   "id": "7bf9d4e7",
   "metadata": {},
   "outputs": [],
   "source": [
    "import csv\n",
    "\n",
    "csv_file_path = [\"news_1.csv\",\"news_2.csv\",\"news_3.csv\",\"news_4.csv\",\"news_5.csv\",\n",
    "                \"news_6.csv\",\"news_7.csv\",\"news_8.csv\",\"news_9.csv\",\"news_10.csv\",\n",
    "                \"news_11.csv\",\"news_12.csv\"]\n",
    "keyword = \"台積電\"\n",
    "output_csv_file_path = [\"2330_1.csv\",\"2330_2.csv\",\"2330_3.csv\",\"2330_4.csv\",\"2330_5.csv\",\n",
    "                       \"2330_6.csv\",\"2330_7.csv\",\"2330_8.csv\",\"2330_9.csv\",\"2330_10.csv\",\n",
    "                       \"2330_11.csv\",\"2330_12.csv\"]\n",
    "all=\"2330_2022.csv\"\n",
    "i=0   \n",
    "# 儲存含有關鍵字的資料的列表\n",
    "#如果要個別月要放裡面\n",
    "filtered_data = []\n",
    "\n",
    "for f in csv_file_path:\n",
    "    # 儲存含有關鍵字的資料的列表\n",
    "    #如果要個別月要放裡面\n",
    "    #filtered_data = []\n",
    "    # 使用 UTF-8 編碼讀取 CSV 檔案\n",
    "    with open(f, mode='r', encoding='utf-8-sig') as csvfile:\n",
    "        reader = csv.DictReader(csvfile)\n",
    "    \n",
    "        for row in reader:\n",
    "            if keyword in row['title']:\n",
    "                filtered_data.append({'date': row['date'], 'title': row['title']})\n",
    "\n",
    "    # 使用 UTF-8 編碼寫入新的 CSV 檔案\n",
    "    #將all改成output_csv_file_path[i]就可以按月輸出.csv\n",
    "    with open(all, mode='w', encoding='utf-8', newline='') as csvfile:\n",
    "        # 定義欄位\n",
    "        fieldnames = ['date', 'title']\n",
    "\n",
    "        # 將 dictionary 寫入 CSV 檔\n",
    "        writer = csv.DictWriter(csvfile, fieldnames=fieldnames)\n",
    "\n",
    "        # 寫入第一列的欄位名稱\n",
    "        writer.writeheader()\n",
    "\n",
    "        # 寫入篩選後的資料\n",
    "        for data in filtered_data:\n",
    "            writer.writerow({'date': data['date'], 'title': data['title']})\n",
    "    i+=1"
   ]
  }
 ],
 "metadata": {
  "kernelspec": {
   "display_name": "Python 3 (ipykernel)",
   "language": "python",
   "name": "python3"
  },
  "language_info": {
   "codemirror_mode": {
    "name": "ipython",
    "version": 3
   },
   "file_extension": ".py",
   "mimetype": "text/x-python",
   "name": "python",
   "nbconvert_exporter": "python",
   "pygments_lexer": "ipython3",
   "version": "3.11.4"
  }
 },
 "nbformat": 4,
 "nbformat_minor": 5
}
