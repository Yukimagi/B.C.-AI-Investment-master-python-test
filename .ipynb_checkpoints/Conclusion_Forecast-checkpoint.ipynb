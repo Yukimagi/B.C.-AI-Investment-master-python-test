{
 "cells": [
  {
   "cell_type": "code",
   "execution_count": 26,
   "id": "ff5ac1f3",
   "metadata": {},
   "outputs": [],
   "source": [
    "import pandas as pd\n",
    "\n",
    "# 創建一個空的DataFrame，用於存放每個月份的結果\n",
    "all_results = pd.DataFrame()\n",
    "\n",
    "\n",
    "file_name = 'ans_forcast.csv'\n",
    "df = pd.read_csv(file_name)\n",
    "\n",
    "# 將 Y/N 轉換為數字\n",
    "df[' Y/N'] = df[' Y/N'].map({'#yes': 1, '#no': -1, '#unknown': 0})\n",
    "\n",
    "# 進行分組計算並計算平均分數\n",
    "grouped = df.groupby('date')[' Y/N'].mean().reset_index()\n",
    "grouped.rename(columns={' Y/N': 'point'}, inplace=True)\n",
    "\n",
    "# 計算小數點後第二位的平均分數\n",
    "grouped['point'] = grouped['point'].apply(lambda x: round(x, 2))\n",
    "# 將處理後的結果合併到 all_results DataFrame 中\n",
    "all_results = pd.concat([all_results, grouped])\n",
    "\n",
    "# 將最終結果寫入一個結果檔案\n",
    "all_results.to_csv('point_forecast.csv', index=False)\n"
   ]
  },
  {
   "cell_type": "code",
   "execution_count": null,
   "id": "f6077b9f",
   "metadata": {},
   "outputs": [],
   "source": [
    "# 讀取所有結果\n",
    "all_results = pd.read_csv('point_forecast.csv')\n",
    "\n",
    "# 計算所有日期的平均分數\n",
    "average_point = all_results['point'].mean()\n",
    "\n",
    "# 將平均分數轉換為百分比\n",
    "average_point_percent = round(average_point * 100, 2)\n",
    "\n",
    "print(f'平均結論值：{average_point_percent}')"
   ]
  }
 ],
 "metadata": {
  "kernelspec": {
   "display_name": "Python 3 (ipykernel)",
   "language": "python",
   "name": "python3"
  },
  "language_info": {
   "codemirror_mode": {
    "name": "ipython",
    "version": 3
   },
   "file_extension": ".py",
   "mimetype": "text/x-python",
   "name": "python",
   "nbconvert_exporter": "python",
   "pygments_lexer": "ipython3",
   "version": "3.11.4"
  }
 },
 "nbformat": 4,
 "nbformat_minor": 5
}
